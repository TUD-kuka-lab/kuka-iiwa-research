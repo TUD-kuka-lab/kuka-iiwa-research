{
 "cells": [
  {
   "cell_type": "markdown",
   "id": "3f0d3c03",
   "metadata": {
    "pycharm": {
     "name": "#%% md\n"
    }
   },
   "source": [
    "Authors:\n",
    "    Rodrigo Perez-Dattari, <r.j.perezdattari@tudelft.nl>"
   ]
  },
  {
   "cell_type": "code",
   "execution_count": null,
   "id": "ac1b3f14",
   "metadata": {},
   "outputs": [],
   "source": [
    "import numpy as np\n",
    "import matplotlib.pyplot as plt\n",
    "import pickle"
   ]
  },
  {
   "cell_type": "markdown",
   "id": "acf1b1c2",
   "metadata": {},
   "source": [
    "#### Useful functions"
   ]
  },
  {
   "cell_type": "code",
   "execution_count": null,
   "id": "1e040d56",
   "metadata": {},
   "outputs": [],
   "source": [
    "# Plot\n",
    "def plot_joints_data(data, time, title, subtitle, x_label, y_label):\n",
    "    # Create subplots\n",
    "    fig, axs = plt.subplots(n_joints, figsize=(10,15))\n",
    "\n",
    "    # Add title of subplots \n",
    "    fig.suptitle(title)\n",
    "\n",
    "    # Plot every joint\n",
    "    for i in range(n_joints):\n",
    "        axs[i].set_title(subtitle + ' ' + str(i + 1))\n",
    "        axs[i].set_xlabel(x_label)\n",
    "        axs[i].set_ylabel(y_label)\n",
    "        axs[i].scatter(time, data[:, i])\n",
    "\n",
    "    fig.tight_layout()"
   ]
  },
  {
   "cell_type": "code",
   "execution_count": null,
   "id": "81be3bcc",
   "metadata": {},
   "outputs": [],
   "source": [
    "# Find index of closest value in array\n",
    "def find_index_closest_value(array, value):\n",
    "    # Calculate the difference array\n",
    "    difference_array = np.absolute(array - value)\n",
    "\n",
    "    # Find the index of minimum element from the array\n",
    "    index = difference_array.argmin()\n",
    "    \n",
    "    return index"
   ]
  },
  {
   "cell_type": "code",
   "execution_count": null,
   "id": "42a28458",
   "metadata": {},
   "outputs": [],
   "source": [
    "# Compute time\n",
    "def compute_time(delta_t_history):\n",
    "    time_history = []\n",
    "    time = 0\n",
    "\n",
    "    # Sum every delta to get the time of the trajectory\n",
    "    for delta_t in delta_t_history:\n",
    "        time = time + delta_t\n",
    "        time_history.append(time)\n",
    "        \n",
    "    return time_history"
   ]
  },
  {
   "cell_type": "markdown",
   "id": "8903b757",
   "metadata": {},
   "source": [
    "### 1. Plot Original Data"
   ]
  },
  {
   "cell_type": "markdown",
   "id": "0c0f81ae",
   "metadata": {},
   "source": [
    "#### Load demonstration"
   ]
  },
  {
   "cell_type": "code",
   "execution_count": null,
   "id": "ab7a9554",
   "metadata": {},
   "outputs": [],
   "source": [
    "filename = 'joints_state_0.pk'\n",
    "folder = 'demonstrations/'\n",
    "with open(folder + filename, 'rb') as file:\n",
    "    demonstration = pickle.load(file)"
   ]
  },
  {
   "cell_type": "markdown",
   "id": "e47c45e6",
   "metadata": {},
   "source": [
    "#### Compute time"
   ]
  },
  {
   "cell_type": "code",
   "execution_count": null,
   "id": "9fe5e264",
   "metadata": {},
   "outputs": [],
   "source": [
    "delta_t_history = np.array(demonstration['delta_t'])\n",
    "time_history = compute_time(delta_t_history)"
   ]
  },
  {
   "cell_type": "markdown",
   "id": "e3225cb8",
   "metadata": {},
   "source": [
    "#### Plot joints positions"
   ]
  },
  {
   "cell_type": "code",
   "execution_count": null,
   "id": "c59dc796",
   "metadata": {},
   "outputs": [],
   "source": [
    "# Get joint positions\n",
    "q_trajectory = np.array(demonstration['q'])\n",
    "n_joints = q_trajectory.shape[1]"
   ]
  },
  {
   "cell_type": "code",
   "execution_count": null,
   "id": "7b947cfd",
   "metadata": {},
   "outputs": [],
   "source": [
    "plot_joints_data(q_trajectory, time_history, title='Joints Positions', subtitle='Joint', x_label='time [s]', y_label='angle [rad]')"
   ]
  },
  {
   "cell_type": "markdown",
   "id": "3535e8fa",
   "metadata": {},
   "source": [
    "#### Plot joints velocities"
   ]
  },
  {
   "cell_type": "code",
   "execution_count": null,
   "id": "d35eb81b",
   "metadata": {},
   "outputs": [],
   "source": [
    "# Get joint velocities\n",
    "q_dot_trajectory = np.array(demonstration['q_dot'])\n",
    "n_joints = q_dot_trajectory.shape[1]"
   ]
  },
  {
   "cell_type": "code",
   "execution_count": null,
   "id": "668f755e",
   "metadata": {},
   "outputs": [],
   "source": [
    "plot_joints_data(q_dot_trajectory, time_history, title='Joints Velocities', subtitle='Joint', x_label='time [s]', y_label='velocity [rad/s]')"
   ]
  },
  {
   "cell_type": "markdown",
   "id": "df8c6dd9",
   "metadata": {},
   "source": [
    "### 2. Trim Data and Plot"
   ]
  },
  {
   "cell_type": "markdown",
   "id": "42af8654",
   "metadata": {},
   "source": [
    "#### Remove edges demonstrations "
   ]
  },
  {
   "cell_type": "code",
   "execution_count": null,
   "id": "5ad6850f",
   "metadata": {},
   "outputs": [],
   "source": [
    "# Define demonstration start and end time \n",
    "start_time = 25\n",
    "end_time = 175"
   ]
  },
  {
   "cell_type": "code",
   "execution_count": null,
   "id": "246836e1",
   "metadata": {},
   "outputs": [],
   "source": [
    "# Get indexes\n",
    "start_index = find_index_closest_value(np.array(time_history), start_time)\n",
    "end_index = find_index_closest_value(np.array(time_history), end_time)"
   ]
  },
  {
   "cell_type": "code",
   "execution_count": null,
   "id": "64f0db54",
   "metadata": {},
   "outputs": [],
   "source": [
    "# Remove edges\n",
    "q_trajectory_trimmed = q_trajectory[start_index:end_index]\n",
    "q_dot_trajectory_trimmed = q_dot_trajectory[start_index:end_index]\n",
    "delta_t_history_trimmed = delta_t_history[start_index:end_index]\n",
    "time_history_trimmed = compute_time(delta_t_history_trimmed)"
   ]
  },
  {
   "cell_type": "markdown",
   "id": "30b4a6a9",
   "metadata": {},
   "source": [
    "#### Plot new joint positions"
   ]
  },
  {
   "cell_type": "code",
   "execution_count": null,
   "id": "8ba2c14d",
   "metadata": {},
   "outputs": [],
   "source": [
    "plot_joints_data(q_trajectory_trimmed, time_history_trimmed, title='Joints Positions New', subtitle='Joint', x_label='time [s]', y_label='angle [rad]')"
   ]
  },
  {
   "cell_type": "markdown",
   "id": "0d94487e",
   "metadata": {},
   "source": [
    "#### Plot new joint velocities"
   ]
  },
  {
   "cell_type": "code",
   "execution_count": null,
   "id": "48bfe997",
   "metadata": {
    "scrolled": true
   },
   "outputs": [],
   "source": [
    "plot_joints_data(q_dot_trajectory_trimmed, time_history_trimmed, title='Joints Velocities New', subtitle='Joint', x_label='time [s]', y_label='angle [rad]')"
   ]
  },
  {
   "cell_type": "markdown",
   "id": "642e075e",
   "metadata": {},
   "source": [
    "### 3. Subsample data and Plot"
   ]
  },
  {
   "cell_type": "code",
   "execution_count": null,
   "id": "224bb5b1",
   "metadata": {},
   "outputs": [],
   "source": [
    "subsample_factor = 3"
   ]
  },
  {
   "cell_type": "code",
   "execution_count": null,
   "id": "c0200cca",
   "metadata": {},
   "outputs": [],
   "source": [
    "# Subsample arrays\n",
    "q_trajectory_subsampled = q_trajectory_trimmed[::subsample_factor]\n",
    "q_dot_trajectory_subsampled = q_dot_trajectory_trimmed[::subsample_factor]\n",
    "delta_t_history_subsampled = delta_t_history_trimmed[::subsample_factor] * subsample_factor\n",
    "time_history_subsampled = time_history_trimmed[::subsample_factor]"
   ]
  },
  {
   "cell_type": "code",
   "execution_count": null,
   "id": "33cd7ad1",
   "metadata": {},
   "outputs": [],
   "source": [
    "# Compare trajectory lenghts\n",
    "original_length = q_trajectory.shape[0]\n",
    "trimmed_length = q_trajectory_trimmed.shape[0]\n",
    "subsampled_length = q_trajectory_subsampled.shape[0]\n",
    "\n",
    "print('Original trajectory length:', original_length)\n",
    "print('Trimmed trajectory length:', trimmed_length)\n",
    "print('Subsampled trajectory length:', subsampled_length)"
   ]
  },
  {
   "cell_type": "code",
   "execution_count": null,
   "id": "339a5da7",
   "metadata": {},
   "outputs": [],
   "source": [
    "# Check new sample frequency mean\n",
    "mean_sampling_frequency = 1 / np.array(delta_t_history_subsampled).mean()\n",
    "print('Sampling frequency:', mean_sampling_frequency)"
   ]
  },
  {
   "cell_type": "code",
   "execution_count": null,
   "id": "2b90319f",
   "metadata": {},
   "outputs": [],
   "source": [
    "# Plot positions\n",
    "plot_joints_data(q_trajectory_subsampled, time_history_subsampled, title='Joints Positions New', subtitle='Joint', x_label='time [s]', y_label='angle [rad]')"
   ]
  },
  {
   "cell_type": "code",
   "execution_count": null,
   "id": "03920323",
   "metadata": {},
   "outputs": [],
   "source": [
    "# Plot velocities\n",
    "plot_joints_data(q_dot_trajectory_subsampled, time_history_subsampled, title='Joints Positions New', subtitle='Joint', x_label='time [s]', y_label='angle [rad]')"
   ]
  },
  {
   "cell_type": "markdown",
   "id": "ea5cebcc",
   "metadata": {},
   "source": [
    "#### Save processed data"
   ]
  },
  {
   "cell_type": "code",
   "execution_count": null,
   "id": "f37c0802",
   "metadata": {},
   "outputs": [],
   "source": [
    "# Create dictionary\n",
    "trajectory = {'q': q_trajectory_subsampled,\n",
    "              'q_dot': q_dot_trajectory_subsampled,\n",
    "              'delta_t': delta_t_history_subsampled,\n",
    "              'time': time_history_subsampled}\n",
    "\n",
    "# Save dictionary\n",
    "folder = 'demonstrations_post/'  # make sure the folder exists!\n",
    "filename = 'post_' + filename\n",
    "with open(folder + filename, 'wb') as file:\n",
    "    pickle.dump(trajectory, file)"
   ]
  },
  {
   "cell_type": "code",
   "execution_count": null,
   "id": "ad9b050b",
   "metadata": {},
   "outputs": [],
   "source": []
  }
 ],
 "metadata": {
  "kernelspec": {
   "display_name": "venv",
   "language": "python",
   "name": "venv"
  },
  "language_info": {
   "codemirror_mode": {
    "name": "ipython",
    "version": 3
   },
   "file_extension": ".py",
   "mimetype": "text/x-python",
   "name": "python",
   "nbconvert_exporter": "python",
   "pygments_lexer": "ipython3",
   "version": "3.8.10"
  }
 },
 "nbformat": 4,
 "nbformat_minor": 5
}
